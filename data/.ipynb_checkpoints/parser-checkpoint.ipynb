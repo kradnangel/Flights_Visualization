{
 "cells": [
  {
   "cell_type": "code",
   "execution_count": 1,
   "metadata": {
    "collapsed": true
   },
   "outputs": [],
   "source": [
    "import csv\n",
    "\n",
    "def readCSV(filename):\n",
    "    data = []\n",
    "    with open(filename, 'rb') as csvfile:\n",
    "        spamreader = csv.reader(csvfile, delimiter=' ', quotechar='|')\n",
    "        data = map(lambda row: (''.join(row)).split(','), spamreader)\n",
    "    print filename + \" Reading Done!\"\n",
    "    return data[0], data[1:]\n",
    "\n",
    "def writeCSV(filename, titles, content):\n",
    "    writer = open(filename,'w')\n",
    "    writer.write(''.join(titles) + '\\n')\n",
    "    for row in content:\n",
    "        writer.write(row[0] +',' + row[1] +',' + str(content[row]) + '\\n')\n",
    "    writer.close()\n",
    "    print \"Finished writing!\"    "
   ]
  },
  {
   "cell_type": "code",
   "execution_count": 2,
   "metadata": {
    "collapsed": false
   },
   "outputs": [
    {
     "name": "stdout",
     "output_type": "stream",
     "text": [
      "1988-17-18.csv Reading Done!\n"
     ]
    }
   ],
   "source": [
    "titles, data = readCSV('1988-17-18.csv')"
   ]
  },
  {
   "cell_type": "code",
   "execution_count": 7,
   "metadata": {
    "collapsed": false
   },
   "outputs": [
    {
     "name": "stdout",
     "output_type": "stream",
     "text": [
      "Finished writing!\n"
     ]
    }
   ],
   "source": [
    "flights = {}\n",
    "for d in data:\n",
    "    flights[(d[0],d[1])] = flights.get((d[0],d[1]), 0) + 1\n",
    "\n",
    "writeCSV('1988-total-flights.csv', titles + ['Total'], flights)"
   ]
  },
  {
   "cell_type": "code",
   "execution_count": null,
   "metadata": {
    "collapsed": true
   },
   "outputs": [],
   "source": []
  }
 ],
 "metadata": {
  "kernelspec": {
   "display_name": "Python 2",
   "language": "python",
   "name": "python2"
  },
  "language_info": {
   "codemirror_mode": {
    "name": "ipython",
    "version": 2
   },
   "file_extension": ".py",
   "mimetype": "text/x-python",
   "name": "python",
   "nbconvert_exporter": "python",
   "pygments_lexer": "ipython2",
   "version": "2.7.10"
  }
 },
 "nbformat": 4,
 "nbformat_minor": 0
}
